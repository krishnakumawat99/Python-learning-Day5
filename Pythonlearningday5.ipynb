{
  "nbformat": 4,
  "nbformat_minor": 0,
  "metadata": {
    "colab": {
      "provenance": []
    },
    "kernelspec": {
      "name": "python3",
      "display_name": "Python 3"
    },
    "language_info": {
      "name": "python"
    }
  },
  "cells": [
    {
      "cell_type": "code",
      "execution_count": 9,
      "metadata": {
        "colab": {
          "base_uri": "https://localhost:8080/"
        },
        "id": "zDDqiHGXqQ_m",
        "outputId": "3580b7bd-1f05-4457-bdd4-8faf22b5a632"
      },
      "outputs": [
        {
          "output_type": "stream",
          "name": "stdout",
          "text": [
            "1\n",
            "2\n",
            "3\n",
            "4\n",
            "outside\n"
          ]
        }
      ],
      "source": [
        "#break and continue\n",
        "for i in range(1,5):\n",
        "  print(i)\n",
        "\n",
        "print(\"outside\")"
      ]
    },
    {
      "cell_type": "code",
      "source": [
        "#break\n",
        "for i in range(1,5):\n",
        "  print(i)\n",
        "  break\n",
        "\n",
        "print(\"outside\")"
      ],
      "metadata": {
        "colab": {
          "base_uri": "https://localhost:8080/"
        },
        "id": "UcxuZmZ8xam2",
        "outputId": "53afb844-bb7b-47e2-cd8b-68695d5f83b0"
      },
      "execution_count": 10,
      "outputs": [
        {
          "output_type": "stream",
          "name": "stdout",
          "text": [
            "1\n",
            "outside\n"
          ]
        }
      ]
    },
    {
      "cell_type": "code",
      "source": [
        "for i in range(1,5):\n",
        "  if(i==3):\n",
        "    break\n",
        "  print(i)\n",
        "\n",
        "print(\"outside\")"
      ],
      "metadata": {
        "colab": {
          "base_uri": "https://localhost:8080/"
        },
        "id": "5YHoe7Ynx3oZ",
        "outputId": "114602c8-8b00-4394-8e62-e9e2d4b4da82"
      },
      "execution_count": 11,
      "outputs": [
        {
          "output_type": "stream",
          "name": "stdout",
          "text": [
            "1\n",
            "2\n",
            "outside\n"
          ]
        }
      ]
    },
    {
      "cell_type": "code",
      "source": [
        "z=0\n",
        "for i in range(1,5):\n",
        "  if(i==8):\n",
        "    z=1\n",
        "    break\n",
        "\n",
        "if(z==0):\n",
        "  print(\"without break\")\n",
        "else:\n",
        "  print(\"with break\")"
      ],
      "metadata": {
        "colab": {
          "base_uri": "https://localhost:8080/"
        },
        "id": "A6GHIF3iySe_",
        "outputId": "a6eb285e-7131-47de-80a6-46fe4d80e9c8"
      },
      "execution_count": 19,
      "outputs": [
        {
          "output_type": "stream",
          "name": "stdout",
          "text": [
            "without break\n"
          ]
        }
      ]
    },
    {
      "cell_type": "code",
      "source": [
        "# prime number\n",
        "num=7\n",
        "a=0\n",
        "for x in range(2,num):\n",
        "    if(num%x==0):\n",
        "        a=1\n",
        "        break\n",
        "\n",
        "if(a==1):\n",
        "    print(\"not a prime\")\n",
        "else:\n",
        "    print(\"prime number\",num)"
      ],
      "metadata": {
        "colab": {
          "base_uri": "https://localhost:8080/"
        },
        "id": "iDRc-qYwzj4s",
        "outputId": "e0f22e19-afa5-4d70-beeb-8a2ed9a91291"
      },
      "execution_count": 26,
      "outputs": [
        {
          "output_type": "stream",
          "name": "stdout",
          "text": [
            "prime number 7\n"
          ]
        }
      ]
    },
    {
      "cell_type": "code",
      "source": [
        "# continue\n",
        "for i in range(1,5):\n",
        "  if(i==3):\n",
        "    continue\n",
        "    print(\"ok\")\n",
        "  print(\"value is\",i)"
      ],
      "metadata": {
        "colab": {
          "base_uri": "https://localhost:8080/"
        },
        "id": "9jRyL8SW2xsU",
        "outputId": "497f75d7-bbca-4068-faaa-07888b6e92d7"
      },
      "execution_count": 28,
      "outputs": [
        {
          "output_type": "stream",
          "name": "stdout",
          "text": [
            "value is 1\n",
            "value is 2\n",
            "value is 4\n"
          ]
        }
      ]
    },
    {
      "cell_type": "code",
      "source": [
        "# while loop\n",
        "# while loop=>based on certain condition\n",
        "num=5\n",
        "for i in range(1,num):\n",
        "  print(i,num)\n",
        "  num-=1\n"
      ],
      "metadata": {
        "colab": {
          "base_uri": "https://localhost:8080/"
        },
        "id": "4gO_ptHP6TLZ",
        "outputId": "aecc784f-bf75-42db-e7da-352d94637f1c"
      },
      "execution_count": 29,
      "outputs": [
        {
          "output_type": "stream",
          "name": "stdout",
          "text": [
            "1 5\n",
            "2 4\n",
            "3 3\n",
            "4 2\n"
          ]
        }
      ]
    },
    {
      "cell_type": "code",
      "source": [
        "n=5\n",
        "while(n>2):\n",
        "  print(\"hey\",n)\n",
        "  n=n-1"
      ],
      "metadata": {
        "colab": {
          "base_uri": "https://localhost:8080/"
        },
        "id": "LGqBsKMu60eQ",
        "outputId": "38998937-92ec-4369-e358-5a5a10da59ff"
      },
      "execution_count": 31,
      "outputs": [
        {
          "output_type": "stream",
          "name": "stdout",
          "text": [
            "hey 5\n",
            "hey 4\n",
            "hey 3\n"
          ]
        }
      ]
    },
    {
      "cell_type": "code",
      "source": [
        "n=8\n",
        "while(n<15):\n",
        "  print(\"hey\",n)\n",
        "  n=n+1"
      ],
      "metadata": {
        "colab": {
          "base_uri": "https://localhost:8080/"
        },
        "id": "nrDjDkt17i3U",
        "outputId": "5ec2c458-7338-4e5f-906f-09e5b36d79f5"
      },
      "execution_count": 36,
      "outputs": [
        {
          "output_type": "stream",
          "name": "stdout",
          "text": [
            "hey 8\n",
            "hey 9\n",
            "hey 10\n",
            "hey 11\n",
            "hey 12\n",
            "hey 13\n",
            "hey 14\n"
          ]
        }
      ]
    },
    {
      "cell_type": "code",
      "source": [
        "n=10\n",
        "while(n==10):\n",
        "    if(n%2==0):\n",
        "        print(n, \"is Even\")\n",
        "    else:\n",
        "        print(n, \"is Odd\")\n",
        "    n=n+1\n"
      ],
      "metadata": {
        "colab": {
          "base_uri": "https://localhost:8080/"
        },
        "id": "Ut7hzDQq70rH",
        "outputId": "c65a2391-ec50-4ed2-94ee-9a3eff6fb76e"
      },
      "execution_count": 49,
      "outputs": [
        {
          "output_type": "stream",
          "name": "stdout",
          "text": [
            "10 is Even\n"
          ]
        }
      ]
    },
    {
      "cell_type": "code",
      "source": [
        "#2nd\n",
        "n=10\n",
        "while(n>0):\n",
        "  if(n%2==0):\n",
        "    print(n,\"is even\")\n",
        "    break\n",
        "  else:\n",
        "    print(n,\"is odd\")\n",
        "    break\n",
        ""
      ],
      "metadata": {
        "colab": {
          "base_uri": "https://localhost:8080/"
        },
        "id": "GjTakw-q9Uxm",
        "outputId": "9b1d75e4-f9af-493e-c20f-bc31d2ae7ed7"
      },
      "execution_count": 50,
      "outputs": [
        {
          "output_type": "stream",
          "name": "stdout",
          "text": [
            "10 is even\n"
          ]
        }
      ]
    },
    {
      "cell_type": "code",
      "source": [
        "n=10\n",
        "while(n<=20):\n",
        "    if(n%2==0):\n",
        "        print(\"Even\",n)\n",
        "    else:\n",
        "        print(\"Odd\",n)\n",
        "    n+=1\n"
      ],
      "metadata": {
        "colab": {
          "base_uri": "https://localhost:8080/"
        },
        "id": "8XgAEAu3_PpU",
        "outputId": "6b10e756-655c-45ed-d978-9091eff7efe1"
      },
      "execution_count": 54,
      "outputs": [
        {
          "output_type": "stream",
          "name": "stdout",
          "text": [
            "Even 10\n",
            "Odd 11\n",
            "Even 12\n",
            "Odd 13\n",
            "Even 14\n",
            "Odd 15\n",
            "Even 16\n",
            "Odd 17\n",
            "Even 18\n",
            "Odd 19\n",
            "Even 20\n"
          ]
        }
      ]
    },
    {
      "cell_type": "code",
      "source": [],
      "metadata": {
        "id": "FO4S3OMuEmoJ"
      },
      "execution_count": null,
      "outputs": []
    }
  ]
}