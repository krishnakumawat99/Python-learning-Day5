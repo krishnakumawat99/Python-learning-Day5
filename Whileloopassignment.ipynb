{
  "nbformat": 4,
  "nbformat_minor": 0,
  "metadata": {
    "colab": {
      "provenance": []
    },
    "kernelspec": {
      "name": "python3",
      "display_name": "Python 3"
    },
    "language_info": {
      "name": "python"
    }
  },
  "cells": [
    {
      "cell_type": "code",
      "execution_count": null,
      "metadata": {
        "id": "_O_WDh5fN62z",
        "colab": {
          "base_uri": "https://localhost:8080/"
        },
        "outputId": "677920be-8a5b-4a32-e1ef-1012335c9567"
      },
      "outputs": [
        {
          "output_type": "stream",
          "name": "stdout",
          "text": [
            "Enter a number: 4\n",
            "1\n",
            "2\n",
            "3\n",
            "4\n"
          ]
        }
      ],
      "source": [
        "# 1. Print all natural numbers from 1 to n using while loop\n",
        "n = int(input(\"Enter a number: \"))\n",
        "i = 1\n",
        "\n",
        "while(i <= n):\n",
        "    print(i)\n",
        "    i += 1\n"
      ]
    },
    {
      "cell_type": "code",
      "source": [
        "# 2. Print all natural numbers in reverse (n to 1) using while loop\n",
        "n = int(input(\"Enter a number: \"))\n",
        "i = n\n",
        "\n",
        "while(i >= 1):\n",
        "    print(i)\n",
        "    i -= 1"
      ],
      "metadata": {
        "colab": {
          "base_uri": "https://localhost:8080/"
        },
        "id": "0nOGhfl0T77C",
        "outputId": "c8f46912-4c7d-4344-996e-46cd7f567bb7"
      },
      "execution_count": null,
      "outputs": [
        {
          "output_type": "stream",
          "name": "stdout",
          "text": [
            "Enter a number: 4\n",
            "4\n",
            "3\n",
            "2\n",
            "1\n"
          ]
        }
      ]
    },
    {
      "cell_type": "code",
      "source": [
        "# 3. Print all alphabets from a to z using while loop\n",
        "ch = ord('a')\n",
        "while (ch <= ord('z')):\n",
        "    print(chr(ch))\n",
        "    ch += 1\n"
      ],
      "metadata": {
        "colab": {
          "base_uri": "https://localhost:8080/"
        },
        "id": "QrGQwKa0UUMd",
        "outputId": "3c27c59c-9ac5-470c-c29e-bc3f6094f912"
      },
      "execution_count": null,
      "outputs": [
        {
          "output_type": "stream",
          "name": "stdout",
          "text": [
            "a\n",
            "b\n",
            "c\n",
            "d\n",
            "e\n",
            "f\n",
            "g\n",
            "h\n",
            "i\n",
            "j\n",
            "k\n",
            "l\n",
            "m\n",
            "n\n",
            "o\n",
            "p\n",
            "q\n",
            "r\n",
            "s\n",
            "t\n",
            "u\n",
            "v\n",
            "w\n",
            "x\n",
            "y\n",
            "z\n"
          ]
        }
      ]
    },
    {
      "cell_type": "code",
      "source": [
        "# 4. Print all even numbers between 1 to 100 using while loop\n",
        "i = 2\n",
        "while (i <= 100):\n",
        "    print(i)\n",
        "    i += 2\n"
      ],
      "metadata": {
        "colab": {
          "base_uri": "https://localhost:8080/"
        },
        "id": "ywxfwCuwUgmH",
        "outputId": "5b31e48f-8197-4d3f-c845-bd4bd74d1247"
      },
      "execution_count": null,
      "outputs": [
        {
          "output_type": "stream",
          "name": "stdout",
          "text": [
            "2\n",
            "4\n",
            "6\n",
            "8\n",
            "10\n",
            "12\n",
            "14\n",
            "16\n",
            "18\n",
            "20\n",
            "22\n",
            "24\n",
            "26\n",
            "28\n",
            "30\n",
            "32\n",
            "34\n",
            "36\n",
            "38\n",
            "40\n",
            "42\n",
            "44\n",
            "46\n",
            "48\n",
            "50\n",
            "52\n",
            "54\n",
            "56\n",
            "58\n",
            "60\n",
            "62\n",
            "64\n",
            "66\n",
            "68\n",
            "70\n",
            "72\n",
            "74\n",
            "76\n",
            "78\n",
            "80\n",
            "82\n",
            "84\n",
            "86\n",
            "88\n",
            "90\n",
            "92\n",
            "94\n",
            "96\n",
            "98\n",
            "100\n"
          ]
        }
      ]
    },
    {
      "cell_type": "code",
      "source": [
        "# 5. Find the sum of all odd numbers between 1 to n\n",
        "n = int(input(\"Enter a number: \"))\n",
        "x=0\n",
        "i = 1\n",
        "\n",
        "while (i <= n):\n",
        "    if (i % 2 != 0):\n",
        "        x += i\n",
        "    i += 1\n",
        "\n",
        "print(\"Sum of all odd numbers:\", x)"
      ],
      "metadata": {
        "colab": {
          "base_uri": "https://localhost:8080/"
        },
        "id": "rE86DPIpUqzI",
        "outputId": "6686c4c6-b3d3-442c-a177-2d097681c7e8"
      },
      "execution_count": null,
      "outputs": [
        {
          "output_type": "stream",
          "name": "stdout",
          "text": [
            "Enter a number: 4\n",
            "Sum of all odd numbers: 4\n"
          ]
        }
      ]
    },
    {
      "cell_type": "code",
      "source": [
        "# 6. Count the number of digits in a number\n",
        "n = int(input(\"Enter a number: \"))\n",
        "count = 0\n",
        "\n",
        "while (n > 0):\n",
        "    count += 1\n",
        "    n //= 10\n",
        "\n",
        "print(\"Number of digits:\", count)"
      ],
      "metadata": {
        "colab": {
          "base_uri": "https://localhost:8080/"
        },
        "id": "WiPTkY-SVu8s",
        "outputId": "56caaca2-976f-4ab5-a312-319e958b01a7"
      },
      "execution_count": null,
      "outputs": [
        {
          "output_type": "stream",
          "name": "stdout",
          "text": [
            "Enter a number: 45\n",
            "Number of digits: 2\n"
          ]
        }
      ]
    },
    {
      "cell_type": "code",
      "source": [
        "# 7. Calculate the sum of digits of a number\n",
        "n = int(input(\"Enter a number: \"))\n",
        "sum = 0\n",
        "\n",
        "while (n > 0):\n",
        "    digit = n % 10\n",
        "    sum += digit\n",
        "    n //= 10\n",
        "\n",
        "print(\"Sum of digits:\", sum)\n"
      ],
      "metadata": {
        "colab": {
          "base_uri": "https://localhost:8080/"
        },
        "id": "CO4Ps92LWBHw",
        "outputId": "f08b2a54-4453-465f-f12d-06c46d3e78c8"
      },
      "execution_count": null,
      "outputs": [
        {
          "output_type": "stream",
          "name": "stdout",
          "text": [
            "Enter a number: 345\n",
            "Sum of digits: 12\n"
          ]
        }
      ]
    },
    {
      "cell_type": "code",
      "source": [
        "# 8. Find the first and last digit of a number\n",
        "n = int(input(\"Enter a number: \"))\n",
        "x=n%10\n",
        "y=n\n",
        "while(y>=10):\n",
        "  y//=10\n",
        "print(\"First digit:\", y)\n",
        "print(\"Last digit:\", x)\n"
      ],
      "metadata": {
        "colab": {
          "base_uri": "https://localhost:8080/"
        },
        "id": "bvtAMdiOWNeP",
        "outputId": "1a00dd9d-1625-45b9-b043-da410a365c90"
      },
      "execution_count": null,
      "outputs": [
        {
          "output_type": "stream",
          "name": "stdout",
          "text": [
            "Enter a number: 23\n",
            "First digit: 2\n",
            "Last digit: 3\n"
          ]
        }
      ]
    },
    {
      "cell_type": "code",
      "source": [
        "# 9. Find the sum of the first and last digit of a number\n",
        "n = int(input(\"Enter a number: \"))\n",
        "x=n%10\n",
        "y=n\n",
        "while(y>=10):\n",
        "  y//=10\n",
        "sum=x+y\n",
        "print(\"Sum of first and last digit:\", sum)"
      ],
      "metadata": {
        "colab": {
          "base_uri": "https://localhost:8080/"
        },
        "id": "ELmofcPTWwMm",
        "outputId": "574e221e-e5a6-44c4-e338-f412de58e317"
      },
      "execution_count": null,
      "outputs": [
        {
          "output_type": "stream",
          "name": "stdout",
          "text": [
            "Enter a number: 234\n",
            "Sum of first and last digit: 6\n"
          ]
        }
      ]
    },
    {
      "cell_type": "code",
      "source": [
        "# 10. Print the reverse of a number\n",
        "n = int(input(\"Enter a number: \"))\n",
        "rev = 0\n",
        "\n",
        "while (n > 0):\n",
        "    digit = n % 10\n",
        "    rev = rev * 10 + digit\n",
        "    n //= 10\n",
        "print(\"reverse number:\", rev)\n"
      ],
      "metadata": {
        "colab": {
          "base_uri": "https://localhost:8080/"
        },
        "id": "oHajVGPBW-r8",
        "outputId": "988ce7d8-5267-4b3d-deb5-97b8f08beded"
      },
      "execution_count": null,
      "outputs": [
        {
          "output_type": "stream",
          "name": "stdout",
          "text": [
            "Enter a number: 245\n",
            "reverse number: 542\n"
          ]
        }
      ]
    },
    {
      "cell_type": "code",
      "source": [
        "# 11. Find the power of a number using for loop"
      ],
      "metadata": {
        "id": "3HYbg8_wXfSQ"
      },
      "execution_count": null,
      "outputs": []
    },
    {
      "cell_type": "code",
      "source": [
        "# 12. Find all factors of a number\n",
        "num = int(input(\"Enter a number: \"))\n",
        "i = 1\n",
        "while(i<=num):\n",
        "    if(num%i==0):\n",
        "        print(i, end=\" \")\n",
        "    i += 1\n"
      ],
      "metadata": {
        "colab": {
          "base_uri": "https://localhost:8080/"
        },
        "id": "mswzfxjxX28y",
        "outputId": "2f4848de-755f-4010-f11b-ea63b218e3b0"
      },
      "execution_count": null,
      "outputs": [
        {
          "output_type": "stream",
          "name": "stdout",
          "text": [
            "Enter a number: 456\n",
            "1 2 3 4 6 8 12 19 24 38 57 76 114 152 228 456 "
          ]
        }
      ]
    },
    {
      "cell_type": "code",
      "source": [
        "# 13. Calculate the factorial of a number"
      ],
      "metadata": {
        "id": "J4t8V0-tYEkV"
      },
      "execution_count": null,
      "outputs": []
    },
    {
      "cell_type": "code",
      "source": [
        "# 14. Find LCM of two numbers"
      ],
      "metadata": {
        "id": "bo_UiLmeYMRp"
      },
      "execution_count": null,
      "outputs": []
    },
    {
      "cell_type": "code",
      "source": [
        "# 15. Check whether a number is Prime or not using while loop\n",
        "num=7\n",
        "a=0\n",
        "for x in range(2,num):\n",
        "    if(num%x==0):\n",
        "        a=1\n",
        "        break\n",
        "\n",
        "if(a==1):\n",
        "    print(\"not a prime\")\n",
        "else:\n",
        "    print(\"prime number\",num)"
      ],
      "metadata": {
        "id": "kHw52x5NYUeM",
        "outputId": "8ea9287f-d5d0-4693-ef39-8f9571ebdf5c",
        "colab": {
          "base_uri": "https://localhost:8080/"
        }
      },
      "execution_count": 20,
      "outputs": [
        {
          "output_type": "stream",
          "name": "stdout",
          "text": [
            "prime number 7\n"
          ]
        }
      ]
    },
    {
      "cell_type": "code",
      "source": [],
      "metadata": {
        "id": "_HQcbfuWY2S0"
      },
      "execution_count": null,
      "outputs": []
    }
  ]
}